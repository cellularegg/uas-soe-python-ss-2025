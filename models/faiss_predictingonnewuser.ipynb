{
 "cells": [
  {
   "cell_type": "markdown",
   "id": "e67aa2e5",
   "metadata": {},
   "source": [
    "# User-based Collaborative Filtering using Saved FAISS"
   ]
  },
  {
   "cell_type": "markdown",
   "id": "b19ec9a3",
   "metadata": {},
   "source": [
    "Predicting on new user"
   ]
  },
  {
   "cell_type": "code",
   "execution_count": 1,
   "id": "d43d0e5f",
   "metadata": {},
   "outputs": [],
   "source": [
    "import faiss\n",
    "import numpy as np\n",
    "import pandas as pd\n",
    "from scipy.sparse import load_npz, csr_matrix, vstack\n",
    "from sklearn.preprocessing import normalize\n",
    "import pickle\n",
    "import os\n",
    "base_path = r'C:\\Users\\Sara\\Documents\\python proj'"
   ]
  },
  {
   "cell_type": "code",
   "execution_count": 2,
   "id": "9a2030ac",
   "metadata": {},
   "outputs": [],
   "source": [
    "# Load sparse matrix\n",
    "sparse_matrix = load_npz(\"sparse_matrix.npz\")\n",
    "\n",
    "# Load user/movie mappings\n",
    "with open(\"user_movie_maps.pkl\", \"rb\") as f:\n",
    "    user_map, movie_map, reverse_movie_map = pickle.load(f)\n",
    "\n",
    "# Load movie metadata\n",
    "movies_df = pd.read_csv(os.path.join(base_path, 'movies.csv'))  # or the path you use"
   ]
  },
  {
   "cell_type": "code",
   "execution_count": 3,
   "id": "a661e1f3",
   "metadata": {},
   "outputs": [],
   "source": [
    "def build_faiss_index_batched(sparse_matrix, batch_size=10000):\n",
    "    index = faiss.IndexFlatIP(sparse_matrix.shape[1])  # inner product for cosine sim\n",
    "    user_indices = np.arange(sparse_matrix.shape[0])\n",
    "\n",
    "    for i in range(0, len(user_indices), batch_size):\n",
    "        batch_rows = user_indices[i:i + batch_size]\n",
    "        dense_batch = sparse_matrix[batch_rows].toarray().astype('float32')\n",
    "        dense_batch = normalize(dense_batch)\n",
    "        index.add(dense_batch)\n",
    "\n",
    "    print(\"FAISS index rebuilt\")\n",
    "    return index\n"
   ]
  },
  {
   "cell_type": "code",
   "execution_count": 4,
   "id": "30c141c3",
   "metadata": {},
   "outputs": [],
   "source": [
    "def add_new_user(new_ratings, movie_map, faiss_index, sparse_matrix):\n",
    "    from scipy.sparse import vstack\n",
    "\n",
    "    num_movies = sparse_matrix.shape[1]\n",
    "    new_vector = np.zeros(num_movies)\n",
    "\n",
    "    for movie_id, rating in new_ratings:\n",
    "        if movie_id in movie_map:\n",
    "            new_vector[movie_map[movie_id]] = rating\n",
    "\n",
    "    # Append to sparse matrix\n",
    "    new_user_sparse = csr_matrix(new_vector)\n",
    "    sparse_matrix = vstack([sparse_matrix, new_user_sparse])\n",
    "\n",
    "    # Normalize and add to FAISS\n",
    "    new_vector_norm = normalize(new_vector.reshape(1, -1)).astype('float32')\n",
    "    faiss_index.add(new_vector_norm)\n",
    "\n",
    "    new_user_idx = sparse_matrix.shape[0] - 1\n",
    "    return new_user_idx, sparse_matrix"
   ]
  },
  {
   "cell_type": "code",
   "execution_count": 5,
   "id": "937ce663",
   "metadata": {},
   "outputs": [],
   "source": [
    "def recommend_top_n_faiss_hybrid_fast_structured(\n",
    "    user_id,\n",
    "    sparse_matrix,\n",
    "    faiss_index,\n",
    "    user_map,\n",
    "    movie_map,\n",
    "    reverse_movie_map,\n",
    "    movies_df,\n",
    "    n=5,\n",
    "    k=20,\n",
    "    min_overlap=3,\n",
    "    min_neighbors=3\n",
    "):\n",
    "    import pandas as pd\n",
    "\n",
    "    if user_id not in user_map:\n",
    "        return pd.DataFrame()\n",
    "\n",
    "    user_idx = user_map[user_id]\n",
    "    user_vector = sparse_matrix[user_idx]\n",
    "    if user_vector.nnz == 0:\n",
    "        return pd.DataFrame()  # cold-start user\n",
    "\n",
    "    user_dense = user_vector.toarray().astype('float32')\n",
    "    norm_vector = user_dense / (np.linalg.norm(user_dense) + 1e-10)\n",
    "\n",
    "    D, I = faiss_index.search(norm_vector, k=k+1)\n",
    "    neighbor_indices = I[0][1:]\n",
    "    similarities = D[0][1:]\n",
    "\n",
    "    neighbor_vectors = {\n",
    "        idx: sparse_matrix[idx].toarray().astype('float32')\n",
    "        for idx in neighbor_indices\n",
    "    }\n",
    "\n",
    "    unrated_indices = np.where(user_dense[0] == 0)[0]\n",
    "    user_rated_mask = user_dense[0] != 0\n",
    "    user_rated_count = np.count_nonzero(user_rated_mask)\n",
    "\n",
    "    predictions = []\n",
    "\n",
    "    for movie_idx in unrated_indices:\n",
    "        weighted_scores = []\n",
    "        weights = []\n",
    "        true_ratings = []\n",
    "\n",
    "        for sim, neighbor_idx in zip(similarities, neighbor_indices):\n",
    "            neighbor_vec = neighbor_vectors[neighbor_idx]\n",
    "            neighbor_rating = neighbor_vec[0, movie_idx]\n",
    "\n",
    "            if neighbor_rating == 0:\n",
    "                continue\n",
    "\n",
    "            overlap = np.sum((user_rated_mask) & (neighbor_vec[0] != 0))\n",
    "            if overlap < min_overlap:\n",
    "                continue\n",
    "\n",
    "            weight = sim * (overlap / (user_rated_count + 1e-10))\n",
    "            weighted_scores.append(neighbor_rating * weight)\n",
    "            weights.append(weight)\n",
    "            true_ratings.append(neighbor_rating)\n",
    "\n",
    "        if len(true_ratings) < min_neighbors:\n",
    "            continue\n",
    "\n",
    "        pred = np.sum(weighted_scores) / np.sum(weights)\n",
    "        pred = float(np.clip(pred, 0.5, 5.0))\n",
    "\n",
    "        movie_id = reverse_movie_map[movie_idx]\n",
    "        title_row = movies_df.loc[movies_df['movieId'] == movie_id, 'title']\n",
    "        genres_row = movies_df.loc[movies_df['movieId'] == movie_id, 'genres']\n",
    "        title = title_row.values[0] if not title_row.empty else \"Unknown\"\n",
    "        genres = genres_row.values[0] if not genres_row.empty else \"Unknown\"\n",
    "\n",
    "        predictions.append({\n",
    "            'userId': user_id,\n",
    "            'movieId': movie_id,\n",
    "            'title': title,\n",
    "            'genres': genres,\n",
    "            'predicted_rating': round(pred, 2),\n",
    "            'neighbors_used': len(true_ratings)\n",
    "        })\n",
    "\n",
    "    top_n_df = pd.DataFrame(predictions).sort_values(by='predicted_rating', ascending=False).head(n)\n",
    "    return top_n_df.reset_index(drop=True)\n"
   ]
  },
  {
   "cell_type": "code",
   "execution_count": null,
   "id": "9b7da0a0",
   "metadata": {},
   "outputs": [
    {
     "name": "stdout",
     "output_type": "stream",
     "text": [
      "FAISS index rebuilt\n"
     ]
    }
   ],
   "source": [
    "# Rebuild FAISS index\n",
    "faiss_index = build_faiss_index_batched(sparse_matrix)"
   ]
  },
  {
   "cell_type": "code",
   "execution_count": 20,
   "id": "05fd9111",
   "metadata": {},
   "outputs": [],
   "source": [
    "# Define new user ratings\n",
    "new_user_ratings = [\n",
    "    (1, 4.0),     # Toy Story\n",
    "    (318, 5.0),   # Shawshank Redemption\n",
    "    (296, 4.0),   # Pulp Fiction\n",
    "    (2571, 4.5),  # Matrix\n",
    "    (260, 4.0)    # Star Wars\n",
    "]\n",
    "\n",
    "# Add new user\n",
    "new_user_idx, sparse_matrix = add_new_user(\n",
    "    new_user_ratings,\n",
    "    movie_map,\n",
    "    faiss_index,\n",
    "    sparse_matrix\n",
    ")"
   ]
  },
  {
   "cell_type": "code",
   "execution_count": 21,
   "id": "9c572b4c",
   "metadata": {},
   "outputs": [
    {
     "name": "stdout",
     "output_type": "stream",
     "text": [
      "Honey, I Shrunk the Kids (1989) (Movie ID: 2054)\n",
      "  → Predicted Rating: 5.00\n",
      "  → Neighbors Used: 2\n",
      "  → Genres: Adventure|Children|Comedy|Fantasy|Sci-Fi\n",
      "------------------------------------------------------------\n",
      "Mummy, The (1999) (Movie ID: 2617)\n",
      "  → Predicted Rating: 5.00\n",
      "  → Neighbors Used: 2\n",
      "  → Genres: Action|Adventure|Comedy|Fantasy|Horror|Thriller\n",
      "------------------------------------------------------------\n",
      "Swingers (1996) (Movie ID: 1060)\n",
      "  → Predicted Rating: 4.83\n",
      "  → Neighbors Used: 3\n",
      "  → Genres: Comedy|Drama\n",
      "------------------------------------------------------------\n",
      "Star Wars: Episode I - The Phantom Menace (1999) (Movie ID: 2628)\n",
      "  → Predicted Rating: 4.76\n",
      "  → Neighbors Used: 2\n",
      "  → Genres: Action|Adventure|Sci-Fi\n",
      "------------------------------------------------------------\n",
      "Rescuers Down Under, The (1990) (Movie ID: 2089)\n",
      "  → Predicted Rating: 4.72\n",
      "  → Neighbors Used: 2\n",
      "  → Genres: Adventure|Animation|Children\n",
      "------------------------------------------------------------\n"
     ]
    }
   ],
   "source": [
    "# Run recommendation\n",
    "top_recs = recommend_top_n_faiss_hybrid_fast_structured(\n",
    "    user_id=new_user_idx,\n",
    "    sparse_matrix=sparse_matrix,\n",
    "    faiss_index=faiss_index,\n",
    "    user_map={new_user_idx: new_user_idx},\n",
    "    movie_map=movie_map,\n",
    "    reverse_movie_map=reverse_movie_map,\n",
    "    movies_df=movies_df,\n",
    "    n=5,\n",
    "    k=20,\n",
    "    min_overlap=3,\n",
    "    min_neighbors=2 # optimal number tbd\n",
    ")\n",
    "\n",
    "# Display results\n",
    "for _, row in top_recs.iterrows():\n",
    "    print(f\"{row['title']} (Movie ID: {row['movieId']})\")\n",
    "    print(f\"  → Predicted Rating: {row['predicted_rating']:.2f}\")\n",
    "    print(f\"  → Neighbors Used: {row['neighbors_used']}\")\n",
    "    print(f\"  → Genres: {row['genres']}\")\n",
    "    print(\"-\" * 60)"
   ]
  },
  {
   "cell_type": "markdown",
   "id": "f3f93c1b",
   "metadata": {},
   "source": [
    "Something we could consider here could be **boosting rare high ratings** (for example this user rated Shawshank Redemption with 5.0). If a movie has a very high rating by the user but few neighbors match on it, we could slightly increase its weight in similarity, e.g.: weight = sim * (overlap / (user_rated_count + 1e-10)) * rating_boost."
   ]
  },
  {
   "cell_type": "code",
   "execution_count": 22,
   "id": "9f5182e9",
   "metadata": {},
   "outputs": [
    {
     "name": "stdout",
     "output_type": "stream",
     "text": [
      "FAISS index dimension: 59047\n",
      "Number of users indexed: 162544\n",
      "Sparse matrix shape: (162544, 59047)\n"
     ]
    }
   ],
   "source": [
    "print(\"FAISS index dimension:\", faiss_index.d)\n",
    "print(\"Number of users indexed:\", faiss_index.ntotal)\n",
    "print(\"Sparse matrix shape:\", sparse_matrix.shape)"
   ]
  }
 ],
 "metadata": {
  "kernelspec": {
   "display_name": "Python 3",
   "language": "python",
   "name": "python3"
  },
  "language_info": {
   "codemirror_mode": {
    "name": "ipython",
    "version": 3
   },
   "file_extension": ".py",
   "mimetype": "text/x-python",
   "name": "python",
   "nbconvert_exporter": "python",
   "pygments_lexer": "ipython3",
   "version": "3.13.2"
  }
 },
 "nbformat": 4,
 "nbformat_minor": 5
}
