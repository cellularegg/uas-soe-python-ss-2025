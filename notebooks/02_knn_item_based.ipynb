{
 "cells": [
  {
   "cell_type": "code",
   "execution_count": 1,
   "id": "cf01deba",
   "metadata": {},
   "outputs": [],
   "source": [
    "import numpy as np\n",
    "import pandas as pd\n",
    "from sklearn.metrics.pairwise import cosine_similarity"
   ]
  },
  {
   "cell_type": "code",
   "execution_count": 2,
   "id": "97d7d8fc",
   "metadata": {},
   "outputs": [],
   "source": [
    "df_movies = pd.read_csv(\"data/ml-25m/movies.csv\")\n",
    "df_ratings = pd.read_csv(\"data/ml-25m/ratings.csv\")"
   ]
  },
  {
   "cell_type": "code",
   "execution_count": 3,
   "id": "e1944819",
   "metadata": {},
   "outputs": [
    {
     "data": {
      "text/plain": [
       "array([     1,      2,      3, ..., 162539, 162540, 162541])"
      ]
     },
     "execution_count": 3,
     "metadata": {},
     "output_type": "execute_result"
    }
   ],
   "source": [
    "df_ratings[\"userId\"].unique()"
   ]
  },
  {
   "cell_type": "code",
   "execution_count": 4,
   "id": "61215c38",
   "metadata": {},
   "outputs": [
    {
     "data": {
      "text/html": [
       "<div>\n",
       "<style scoped>\n",
       "    .dataframe tbody tr th:only-of-type {\n",
       "        vertical-align: middle;\n",
       "    }\n",
       "\n",
       "    .dataframe tbody tr th {\n",
       "        vertical-align: top;\n",
       "    }\n",
       "\n",
       "    .dataframe thead th {\n",
       "        text-align: right;\n",
       "    }\n",
       "</style>\n",
       "<table border=\"1\" class=\"dataframe\">\n",
       "  <thead>\n",
       "    <tr style=\"text-align: right;\">\n",
       "      <th></th>\n",
       "      <th>movieId</th>\n",
       "      <th>title</th>\n",
       "      <th>genres</th>\n",
       "    </tr>\n",
       "  </thead>\n",
       "  <tbody>\n",
       "    <tr>\n",
       "      <th>0</th>\n",
       "      <td>1</td>\n",
       "      <td>Toy Story (1995)</td>\n",
       "      <td>Adventure|Animation|Children|Comedy|Fantasy</td>\n",
       "    </tr>\n",
       "    <tr>\n",
       "      <th>1</th>\n",
       "      <td>2</td>\n",
       "      <td>Jumanji (1995)</td>\n",
       "      <td>Adventure|Children|Fantasy</td>\n",
       "    </tr>\n",
       "    <tr>\n",
       "      <th>2</th>\n",
       "      <td>3</td>\n",
       "      <td>Grumpier Old Men (1995)</td>\n",
       "      <td>Comedy|Romance</td>\n",
       "    </tr>\n",
       "    <tr>\n",
       "      <th>3</th>\n",
       "      <td>4</td>\n",
       "      <td>Waiting to Exhale (1995)</td>\n",
       "      <td>Comedy|Drama|Romance</td>\n",
       "    </tr>\n",
       "    <tr>\n",
       "      <th>4</th>\n",
       "      <td>5</td>\n",
       "      <td>Father of the Bride Part II (1995)</td>\n",
       "      <td>Comedy</td>\n",
       "    </tr>\n",
       "  </tbody>\n",
       "</table>\n",
       "</div>"
      ],
      "text/plain": [
       "   movieId                               title  \\\n",
       "0        1                    Toy Story (1995)   \n",
       "1        2                      Jumanji (1995)   \n",
       "2        3             Grumpier Old Men (1995)   \n",
       "3        4            Waiting to Exhale (1995)   \n",
       "4        5  Father of the Bride Part II (1995)   \n",
       "\n",
       "                                        genres  \n",
       "0  Adventure|Animation|Children|Comedy|Fantasy  \n",
       "1                   Adventure|Children|Fantasy  \n",
       "2                               Comedy|Romance  \n",
       "3                         Comedy|Drama|Romance  \n",
       "4                                       Comedy  "
      ]
     },
     "execution_count": 4,
     "metadata": {},
     "output_type": "execute_result"
    }
   ],
   "source": [
    "df_movies.head()"
   ]
  },
  {
   "cell_type": "code",
   "execution_count": 5,
   "id": "fcc21db4",
   "metadata": {},
   "outputs": [],
   "source": [
    "df_joined = (\n",
    "  df_ratings[df_ratings['userId'].between(1, 5000)]\n",
    "    .merge(df_movies[['movieId', 'title']], on='movieId', how='left')\n",
    ")\n",
    "# user-item matrix (rows: users, cols: movies, values: ratings)\n",
    "ratings_matrix = df_joined.pivot_table(\n",
    "  index='userId',\n",
    "  columns='title',\n",
    "  values='rating'\n",
    ")\n"
   ]
  },
  {
   "cell_type": "code",
   "execution_count": 6,
   "id": "afdcbd6a",
   "metadata": {},
   "outputs": [
    {
     "name": "stdout",
     "output_type": "stream",
     "text": [
      "title\n",
      "Ip Man: The Final Fight (2013)                            5.000000\n",
      "What Women Want (a.k.a. I Know a Woman's Heart) (2011)    5.000000\n",
      "Holding the Man (2015)                                    5.000000\n",
      "Warkop DKI Reborn: Jangkrik Boss! (2016)                  5.000000\n",
      "SPF-18 (2017)                                             5.000000\n",
      "Tarantella (1995)                                         5.000000\n",
      "10th & Wolf (2006)                                        5.000000\n",
      "Amityville: The Awakening (2017)                          5.000000\n",
      "Hells Angels on Wheels (1967)                             4.902785\n",
      "Catfish in Black Bean Sauce (2000)                        4.902785\n",
      "TV Set, The (2006)                                        4.628988\n",
      "Blind Shaft (Mang jing) (2003)                            4.628988\n",
      "Resurrection (1980)                                       4.628988\n",
      "City of Hope (1991)                                       4.628988\n",
      "Viva Zapata! (1952)                                       4.628988\n",
      "Mortal Storm, The (1940)                                  4.628988\n",
      "Under Capricorn (1949)                                    4.628988\n",
      "Beautiful Person, The (La belle personne) (2008)          4.617447\n",
      "Hunting and Gathering (Ensemble, c'est tout) (2007)       4.617447\n",
      "There's Always Woodstock (2014)                           4.500000\n",
      "Keep in Touch (2015)                                      4.500000\n",
      "People You May Know (2017)                                4.500000\n",
      "Bravetown (2015)                                          4.500000\n",
      "Nice Guy Johnny (2010)                                    4.500000\n",
      "Sequoia (2014)                                            4.500000\n",
      "dtype: float64\n"
     ]
    }
   ],
   "source": [
    "# 1⃣  similarity between items (movies)\n",
    "item_sim = pd.DataFrame(\n",
    "  cosine_similarity(ratings_matrix.T.fillna(0)),\n",
    "  index=ratings_matrix.columns,\n",
    "  columns=ratings_matrix.columns\n",
    ")\n",
    "\n",
    "# 2⃣  prediction function for one user\n",
    "def predict_for_user(user_id, k=20):\n",
    "  seen = ratings_matrix.loc[user_id].dropna()\n",
    "  sims  = item_sim[seen.index]                     # similarities to movies the user rated\n",
    "  weights = sims.div(sims.sum(axis=1), axis=0)     # normalise row-wise\n",
    "\n",
    "  # weighted sum of user’s own ratings\n",
    "  scores = (weights * seen).sum(axis=1)\n",
    "\n",
    "  # filter out already-rated titles\n",
    "  return scores.drop(seen.index).sort_values(ascending=False)\n",
    "\n",
    "# example: top-10 recs for user 1\n",
    "top10 = predict_for_user(99).head(25)\n",
    "print(top10)"
   ]
  },
  {
   "cell_type": "code",
   "execution_count": null,
   "id": "45cb023a",
   "metadata": {},
   "outputs": [],
   "source": [
    "item_sim.head()"
   ]
  }
 ],
 "metadata": {
  "kernelspec": {
   "display_name": "machine_learning",
   "language": "python",
   "name": "python3"
  },
  "language_info": {
   "codemirror_mode": {
    "name": "ipython",
    "version": 3
   },
   "file_extension": ".py",
   "mimetype": "text/x-python",
   "name": "python",
   "nbconvert_exporter": "python",
   "pygments_lexer": "ipython3",
   "version": "3.8.18"
  }
 },
 "nbformat": 4,
 "nbformat_minor": 5
}
