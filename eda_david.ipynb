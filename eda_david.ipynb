{
 "cells": [
  {
   "cell_type": "markdown",
   "id": "b8853950",
   "metadata": {},
   "source": [
    "# Movie Lens EDA\n",
    "Source https://files.grouplens.org/datasets/movielens/ml-20m-README.html"
   ]
  },
  {
   "cell_type": "code",
   "execution_count": null,
   "id": "f55039d0",
   "metadata": {
    "ExecuteTime": {
     "end_time": "2025-06-01T09:42:09.011656Z",
     "start_time": "2025-06-01T09:42:08.934045Z"
    }
   },
   "outputs": [],
   "source": [
    "import pandas as pd\n",
    "import numpy as np\n",
    "import matplotlib.pyplot as plt\n",
    "import seaborn as sns\n",
    "import plotly.express as px\n",
    "import plotly.io as pio\n",
    "pio.templates.default = \"plotly_dark\""
   ]
  },
  {
   "cell_type": "markdown",
   "id": "53b52818",
   "metadata": {},
   "source": [
    "## Movies\n",
    "This dataset is a subset of the [MovieLens 20M Dataset](https://grouplens.org/datasets/movielens/20m/), which contains 20 million ratings and 465,000 tag applications applied to 27,000 movies by 138,000 users. The data was collected from the MovieLens website, a movie recommendation service.\n",
    "\n",
    "**movies.parquet**\n",
    "- Contains movie information such as movieId, title, and genres.\n",
    "- Each movie is identified by a unique `movieId`.\n",
    "- The `genres` field is a pipe-separated list of genres associated with the movie.\n",
    "\n",
    "**Fields:**\n",
    "- `movieId`: Unique identifier for a movie.\n",
    "- `title`: Movie title with release year in parentheses.\n",
    "- `genres`: Pipe-separated list of genres (e.g., Adventure|Animation|Children|Comedy|Fantasy)."
   ]
  },
  {
   "cell_type": "code",
   "execution_count": null,
   "id": "e748ef09",
   "metadata": {
    "ExecuteTime": {
     "end_time": "2025-06-01T09:42:09.431169Z",
     "start_time": "2025-06-01T09:42:09.197701Z"
    }
   },
   "outputs": [],
   "source": [
    "movies_df = pd.read_parquet(\"./data/parquet/movies.parquet\")\n",
    "movies_df[\"genres\"] = movies_df[\"genres\"].apply(lambda x: x.split(\"|\") if isinstance(x, str) else [])\n",
    "# Extract release year from the title and add as a new column 'year'\n",
    "movies_df['year'] = movies_df['title'].str.extract(r'\\((\\d{4})\\)').astype(float)\n",
    "movies_df[\"genre_count\"] = movies_df[\"genres\"].apply(len)\n",
    "movies_df.info()\n",
    "movies_df.head()"
   ]
  },
  {
   "cell_type": "markdown",
   "id": "19836e15",
   "metadata": {},
   "source": [
    "### Movies per release year"
   ]
  },
  {
   "cell_type": "code",
   "execution_count": null,
   "id": "7b6ff49b",
   "metadata": {
    "ExecuteTime": {
     "end_time": "2025-06-01T09:42:09.844510Z",
     "start_time": "2025-06-01T09:42:09.485300Z"
    }
   },
   "outputs": [],
   "source": [
    "# Plot the number of movies released per year using Plotly\n",
    "# Calculate the number of movies per year\n",
    "plot_df = movies_df['year'].value_counts().sort_index()\n",
    "\n",
    "# Create an interactive bar chart with Plotly\n",
    "fig = px.bar(\n",
    "    plot_df.reset_index(),\n",
    "    x='year',\n",
    "    y='count',\n",
    "    title='Number of Movies Released Per Year',\n",
    ")\n",
    "# Add a trendline to see the overall pattern\n",
    "fig.update_layout(\n",
    "    xaxis_title='Year',\n",
    "    yaxis_title='Number of Movies',\n",
    ")\n",
    "\n",
    "# Display the plot\n",
    "fig.show()"
   ]
  },
  {
   "cell_type": "markdown",
   "id": "3c87cd7c",
   "metadata": {},
   "source": [
    "### Movie Genres"
   ]
  },
  {
   "cell_type": "code",
   "execution_count": null,
   "id": "6bc78b7e",
   "metadata": {
    "ExecuteTime": {
     "end_time": "2025-06-01T09:42:10.227054Z",
     "start_time": "2025-06-01T09:42:10.152157Z"
    }
   },
   "outputs": [],
   "source": [
    "plot_df = movies_df['genre_count'].value_counts().sort_index()\n",
    "\n",
    "# Create an interactive bar chart with Plotly\n",
    "fig = px.bar(\n",
    "    plot_df.reset_index(),\n",
    "    x='genre_count',\n",
    "    y='count',\n",
    "    title='Number of Movies per Number of Genres',\n",
    "    log_y=True  # Apply log scale to y-axis\n",
    ")\n",
    "# Add a trendline to see the overall pattern\n",
    "fig.update_layout(\n",
    "    xaxis_title='Year',\n",
    "    yaxis_title='Number of Movies',\n",
    ")"
   ]
  },
  {
   "cell_type": "code",
   "execution_count": null,
   "id": "e73032eb",
   "metadata": {
    "ExecuteTime": {
     "end_time": "2025-06-01T09:42:10.463393Z",
     "start_time": "2025-06-01T09:42:10.397012Z"
    }
   },
   "outputs": [],
   "source": [
    "plot_df = movies_df['genres'].explode().value_counts().reset_index()\n",
    "plot_df['count'] = plot_df['count'] / movies_df.shape[0] * 100  # Convert to percentage\n",
    "fig = px.bar(\n",
    "    plot_df.reset_index(),\n",
    "    x='genres',\n",
    "    y='count',\n",
    "    title='Percentage of Movies per Genre',\n",
    ")\n",
    "# Add a trendline to see the overall pattern\n",
    "fig.update_layout(\n",
    "    xaxis_title='Genre',\n",
    "    yaxis_title='Percentage of Movies',\n",
    "    xaxis_tickangle=-45  # Rotate x-axis labels for better readability\n",
    ")"
   ]
  },
  {
   "cell_type": "markdown",
   "id": "45de772d",
   "metadata": {},
   "source": [
    "## Ratings\n",
    "The ratings data is sourced from the [MovieLens 20M Dataset](https://grouplens.org/datasets/movielens/20m/). It contains user ratings for movies, where each user has rated at least 20 movies.\n",
    "\n",
    "**ratings.parquet**\n",
    "- Contains the ratings given by users to movies.\n",
    "- Each row represents a single rating event.\n",
    "\n",
    "**Fields:**\n",
    "- `userId`: Unique identifier for a user.\n",
    "- `movieId`: Unique identifier for a movie.\n",
    "- `rating`: The rating given by the user (0.5 to 5.0 in 0.5 increments).\n",
    "- `timestamp`: Unix timestamp of when the rating was made."
   ]
  },
  {
   "cell_type": "code",
   "execution_count": null,
   "id": "2e6d6833",
   "metadata": {
    "ExecuteTime": {
     "end_time": "2025-06-01T09:42:10.791080Z",
     "start_time": "2025-06-01T09:42:10.604340Z"
    }
   },
   "outputs": [],
   "source": [
    "ratings_df = pd.read_parquet(\"./data/parquet/ratings.parquet\")\n",
    "ratings_df.info()\n",
    "ratings_df.head()"
   ]
  },
  {
   "cell_type": "code",
   "execution_count": null,
   "id": "4bf4c50e",
   "metadata": {
    "ExecuteTime": {
     "end_time": "2025-06-01T09:42:10.910437Z",
     "start_time": "2025-06-01T09:42:10.830573Z"
    }
   },
   "outputs": [],
   "source": [
    "# Find movies that don't have any ratings\n",
    "movies_with_ratings = ratings_df['movieId'].unique()\n",
    "movies_without_ratings = movies_df[~movies_df['movieId'].isin(movies_with_ratings)]\n",
    "\n",
    "# Display the count and the first few rows\n",
    "print(f\"Total movies: {len(movies_df)}\")\n",
    "print(f\"Movies with ratings: {len(movies_with_ratings)}\")\n",
    "print(f\"Movies without ratings: {len(movies_without_ratings)}\")\n",
    "\n",
    "# Display sample of movies without ratings\n",
    "movies_without_ratings"
   ]
  },
  {
   "cell_type": "code",
   "execution_count": null,
   "id": "8a516390",
   "metadata": {
    "ExecuteTime": {
     "end_time": "2025-06-01T09:42:20.298930Z",
     "start_time": "2025-06-01T09:42:11.173726Z"
    }
   },
   "outputs": [],
   "source": [
    "rated_movies_df = (\n",
    "    movies_df.set_index(\"movieId\")\n",
    "    .join(\n",
    "        ratings_df.set_index(\"movieId\"),\n",
    "        how=\"inner\",\n",
    "        lsuffix=\"_movie\",\n",
    "        rsuffix=\"_rating\",\n",
    "    )\n",
    "    .reset_index()\n",
    ")\n",
    "rated_movies_df.info(memory_usage=\"deep\")"
   ]
  },
  {
   "cell_type": "code",
   "execution_count": null,
   "id": "1d57d86c",
   "metadata": {},
   "outputs": [],
   "source": [
    "print(f\"Number of unique users: {rated_movies_df['userId'].nunique():,}\")"
   ]
  },
  {
   "cell_type": "code",
   "execution_count": null,
   "id": "a570758a",
   "metadata": {
    "ExecuteTime": {
     "end_time": "2025-06-01T09:42:21.312429Z",
     "start_time": "2025-06-01T09:42:20.342482Z"
    }
   },
   "outputs": [],
   "source": [
    "rated_movies_df.isnull().sum()"
   ]
  },
  {
   "cell_type": "markdown",
   "id": "e3251db3",
   "metadata": {},
   "source": [
    "### Ratings per user"
   ]
  },
  {
   "cell_type": "code",
   "execution_count": null,
   "id": "975c0806",
   "metadata": {
    "ExecuteTime": {
     "end_time": "2025-06-01T09:42:21.649919Z",
     "start_time": "2025-06-01T09:42:21.407600Z"
    }
   },
   "outputs": [],
   "source": [
    "# Calculate the number of ratings per user\n",
    "ratings_per_user = ratings_df['userId'].value_counts().reset_index()\n",
    "ratings_per_user.columns = ['userId', 'num_ratings']\n",
    "\n",
    "# Plot the distribution using Plotly\n",
    "fig = px.histogram(\n",
    "    ratings_per_user,\n",
    "    x='num_ratings',\n",
    "    title='Distribution of Number of Ratings per User',\n",
    "    labels={'num_ratings': 'Number of Ratings'},\n",
    "    log_y=True  # Log scale for better visualization\n",
    ")\n",
    "fig.update_layout(\n",
    "    xaxis_title='Number of Ratings per User',\n",
    "    yaxis_title='Number of Users'\n",
    ")\n",
    "fig.show()"
   ]
  },
  {
   "cell_type": "code",
   "execution_count": null,
   "id": "d450086b",
   "metadata": {
    "ExecuteTime": {
     "end_time": "2025-06-01T09:42:22.093539Z",
     "start_time": "2025-06-01T09:42:21.862680Z"
    }
   },
   "outputs": [],
   "source": [
    "ratings_per_user = ratings_df['userId'].value_counts().reset_index()\n",
    "ratings_per_user.columns = ['userId', 'num_ratings']\n",
    "\n",
    "# Plot the distribution using Plotly\n",
    "fig = px.box(\n",
    "    ratings_per_user,\n",
    "    x='num_ratings',\n",
    "    title='Distribution of Number of Ratings per User',\n",
    "    labels={'num_ratings': 'Number of Ratings'},\n",
    "    log_x=True\n",
    ")\n",
    "fig.update_layout(\n",
    "    xaxis_title='Number of Ratings per User',\n",
    ")\n",
    "fig.show()"
   ]
  },
  {
   "cell_type": "markdown",
   "id": "71dfec7c",
   "metadata": {},
   "source": [
    "### Ratings per Movie"
   ]
  },
  {
   "cell_type": "code",
   "execution_count": null,
   "id": "8977b070",
   "metadata": {
    "ExecuteTime": {
     "end_time": "2025-06-01T09:42:22.546478Z",
     "start_time": "2025-06-01T09:42:22.249209Z"
    }
   },
   "outputs": [],
   "source": [
    "# Calculate the number of ratings per movie\n",
    "ratings_per_movie = ratings_df['movieId'].value_counts().reset_index()\n",
    "ratings_per_movie.columns = ['movieId', 'num_ratings']\n",
    "\n",
    "# Plot the distribution using Plotly\n",
    "fig = px.histogram(\n",
    "    ratings_per_movie,\n",
    "    x='num_ratings',\n",
    "    title='Distribution of Number of Ratings per Movie',\n",
    "    labels={'num_ratings': 'Number of Ratings'},\n",
    "    log_y=True  # Log scale for better visualization\n",
    ")\n",
    "fig.update_layout(\n",
    "    xaxis_title='Number of Ratings per Movie',\n",
    "    yaxis_title='Number of Movies'\n",
    ")\n",
    "fig.show()"
   ]
  },
  {
   "cell_type": "code",
   "execution_count": null,
   "id": "35453786",
   "metadata": {
    "ExecuteTime": {
     "end_time": "2025-06-01T09:42:23.013248Z",
     "start_time": "2025-06-01T09:42:22.728259Z"
    }
   },
   "outputs": [],
   "source": [
    "# Calculate the number of ratings per movie\n",
    "ratings_per_movie = ratings_df['movieId'].value_counts().reset_index()\n",
    "ratings_per_movie.columns = ['movieId', 'num_ratings']\n",
    "\n",
    "# Plot the distribution using Plotly\n",
    "fig = px.box(\n",
    "    ratings_per_movie,\n",
    "    x='num_ratings',\n",
    "    title='Distribution of Number of Ratings per Movie',\n",
    "    labels={'num_ratings': 'Number of Ratings'},\n",
    "    log_x=True  # Log scale for better visualization\n",
    ")\n",
    "fig.update_layout(\n",
    "    xaxis_title='Number of Ratings per Movie',\n",
    ")\n",
    "fig.show()"
   ]
  },
  {
   "cell_type": "markdown",
   "id": "3220ec6a",
   "metadata": {},
   "source": [
    "### Ratings score distribution"
   ]
  },
  {
   "cell_type": "code",
   "execution_count": null,
   "id": "0d254201",
   "metadata": {
    "ExecuteTime": {
     "end_time": "2025-06-01T09:42:28.825834Z",
     "start_time": "2025-06-01T09:42:28.686393Z"
    }
   },
   "outputs": [],
   "source": [
    "# Visualize the distribution of ratings\n",
    "# Calculate the percentage of each rating value\n",
    "rating_counts = ratings_df['rating'].value_counts(normalize=True).sort_index() * 100\n",
    "fig = px.bar(\n",
    "    rating_counts.reset_index(),\n",
    "    x='rating',\n",
    "    y='rating',\n",
    "    title='Distribution of Ratings',\n",
    "    labels={'rating': 'Rating', 'index': 'Rating', 'rating': 'Percentage of Ratings'}\n",
    ")\n",
    "fig.update_layout(\n",
    "    xaxis_title='Rating',\n",
    "    yaxis_title='Percentage of Ratings'\n",
    ")\n",
    "\n",
    "fig.show()"
   ]
  },
  {
   "cell_type": "markdown",
   "id": "dd2708e9",
   "metadata": {},
   "source": [
    "### Ratings per genre"
   ]
  },
  {
   "cell_type": "code",
   "execution_count": null,
   "id": "c853ae79",
   "metadata": {
    "ExecuteTime": {
     "end_time": "2025-06-01T09:42:54.101060Z",
     "start_time": "2025-06-01T09:42:31.213607Z"
    }
   },
   "outputs": [],
   "source": [
    "# Explode genres so each rating is associated with each genre of the movie\n",
    "plot_df = rated_movies_df.explode('genres')\n",
    "plot_df = plot_df.sample(frac=0.1)\n",
    "\n",
    "# Create a boxplot of ratings per genre using Plotly\n",
    "# Also calculate and plot the mean rating per genre\n",
    "mean_ratings = plot_df.groupby('genres')['rating'].mean().reset_index()\n",
    "mean_ratings = mean_ratings.rename(columns={'rating': 'mean_rating'})\n",
    "\n",
    "fig = px.box(\n",
    "    plot_df,\n",
    "    x='genres',\n",
    "    y='rating',\n",
    "    title='Distribution of Ratings per Genre',\n",
    "    labels={'genres': 'Genre', 'rating': 'Rating'}\n",
    ")\n",
    "fig.add_scatter(\n",
    "    x=mean_ratings['genres'],\n",
    "    y=mean_ratings['mean_rating'],\n",
    "    mode='markers',\n",
    "    name='Mean Rating',\n",
    "    marker=dict(color='red', size=8)\n",
    ")\n",
    "\n",
    "fig.update_layout(\n",
    "    xaxis_tickangle=-45\n",
    ")\n",
    "fig.show()"
   ]
  },
  {
   "cell_type": "markdown",
   "id": "9820a6f9",
   "metadata": {},
   "source": [
    "### Highest rated movies"
   ]
  },
  {
   "cell_type": "code",
   "execution_count": null,
   "id": "fc13c7bb",
   "metadata": {},
   "outputs": [],
   "source": [
    "# Todo Check why this is not working\n",
    "plot_df = rated_movies_df.groupby([\"title\"]).agg({\n",
    "    \"rating\": \"mean\",\n",
    "    \"movieId\": \"count\"\n",
    "}).reset_index()\n",
    "\n",
    "# Get the top 20 movies by average rating\n",
    "plot_df = plot_df[plot_df[\"movieId\"] >= 1000].sort_values(\"rating\", ascending=False).head(10)\n",
    "\n",
    "plot_df[\"title\"] = plot_df[\"title\"] + \" (\" + plot_df[\"movieId\"].astype(str) + \" ratings)\"\n",
    "\n",
    "# Plot using Plotly\n",
    "fig = px.bar(\n",
    "    plot_df.sort_values(\"rating\"),\n",
    "    x=\"rating\",\n",
    "    y=\"title\",\n",
    "    orientation=\"h\",\n",
    "    title=\"Top 10 Highest Rated Movies (at least 1000 ratings)\",\n",
    "    labels={\"rating\": \"Average Rating\", \"title\": \"Movie Title\"}\n",
    ")\n",
    "fig.show()"
   ]
  },
  {
   "cell_type": "markdown",
   "id": "fa0f77a7",
   "metadata": {},
   "source": [
    "### Lowest rated movies\n"
   ]
  },
  {
   "cell_type": "code",
   "execution_count": null,
   "id": "2cc86504",
   "metadata": {},
   "outputs": [],
   "source": [
    "# Todo Check why this is not working\n",
    "plot_df = rated_movies_df.groupby([\"title\"]).agg({\n",
    "    \"rating\": \"mean\",\n",
    "    \"movieId\": \"count\"\n",
    "}).reset_index()\n",
    "\n",
    "# Get the top 20 movies by average rating\n",
    "plot_df = plot_df[plot_df[\"movieId\"] >= 1000].sort_values(\"rating\", ascending=True).head(10)\n",
    "\n",
    "plot_df[\"title\"] = plot_df[\"title\"] + \" (\" + plot_df[\"movieId\"].astype(str) + \" ratings)\"\n",
    "\n",
    "# Plot using Plotly\n",
    "fig = px.bar(\n",
    "    plot_df.sort_values(\"rating\"),\n",
    "    x=\"rating\",\n",
    "    y=\"title\",\n",
    "    orientation=\"h\",\n",
    "    title=\"Top 10 Lowest Rated Movies (at least 1000 ratings)\",\n",
    "    labels={\"rating\": \"Average Rating\", \"title\": \"Movie Title\"}\n",
    ")\n",
    "fig.show()"
   ]
  },
  {
   "cell_type": "markdown",
   "id": "662915d9",
   "metadata": {},
   "source": [
    "### Number of ratings vs average rating"
   ]
  },
  {
   "cell_type": "code",
   "execution_count": null,
   "id": "edba9dec",
   "metadata": {
    "vscode": {
     "languageId": "ruby"
    }
   },
   "outputs": [],
   "source": [
    "# Calculate average rating and number of ratings per movie\n",
    "ratings_stats = ratings_df.groupby('movieId').agg(\n",
    "    avg_rating=('rating', 'mean'),\n",
    "    num_ratings=('rating', 'count')\n",
    ").reset_index()\n",
    "\n",
    "# Merge with movies_df to get movie titles (optional)\n",
    "ratings_stats = ratings_stats.merge(movies_df[['movieId', 'title']], on='movieId', how='left')\n",
    "\n",
    "# Scatter plot: Number of ratings vs Average rating\n",
    "fig = px.scatter(\n",
    "    ratings_stats,\n",
    "    x='num_ratings',\n",
    "    y='avg_rating',\n",
    "    hover_data=['title'],\n",
    "    title='Number of Ratings vs Average Rating per Movie',\n",
    "    labels={'num_ratings': 'Number of Ratings', 'avg_rating': 'Average Rating'},\n",
    "    opacity=0.5,\n",
    "    log_x=True\n",
    ")\n",
    "fig.update_layout(\n",
    "    xaxis_title='Number of Ratings (log scale)',\n",
    "    yaxis_title='Average Rating'\n",
    ")\n",
    "fig.show()"
   ]
  },
  {
   "cell_type": "markdown",
   "id": "0b1613e5",
   "metadata": {},
   "source": [
    "### Number of ratings per user vs average rating"
   ]
  },
  {
   "cell_type": "code",
   "execution_count": null,
   "id": "9b478674",
   "metadata": {
    "vscode": {
     "languageId": "ruby"
    }
   },
   "outputs": [],
   "source": [
    "# Calculate average rating and number of ratings per user\n",
    "user_stats = ratings_df.groupby('userId').agg(\n",
    "    avg_rating=('rating', 'mean'),\n",
    "    num_ratings=('rating', 'count')\n",
    ").reset_index()\n",
    "\n",
    "# Scatter plot: Number of ratings per user vs Average rating\n",
    "fig = px.scatter(\n",
    "    user_stats,\n",
    "    x='num_ratings',\n",
    "    y='avg_rating',\n",
    "    hover_data=['userId'],\n",
    "    title='Number of Ratings per User vs Average Rating',\n",
    "    labels={'num_ratings': 'Number of Ratings per User', 'avg_rating': 'Average Rating'},\n",
    "    opacity=0.5,\n",
    "    log_x=True\n",
    ")\n",
    "fig.update_layout(\n",
    "    xaxis_title='Number of Ratings per User (log scale)',\n",
    "    yaxis_title='Average Rating'\n",
    ")\n",
    "fig.show()"
   ]
  },
  {
   "cell_type": "markdown",
   "id": "10908b9d",
   "metadata": {},
   "source": [
    "## Tags\n",
    "Tags are user-generated metadata about movies. Each tag is typically a single word or short phrase. The meaning, value, and purpose of a particular tag is determined by each user.\n",
    "\n",
    "**tags.parquet**\n",
    "- Contains the tags applied to movies by users.\n",
    "- Each row represents a single tag application.\n",
    "\n",
    "**Fields:**\n",
    "- `userId`: Unique identifier for a user.\n",
    "- `movieId`: Unique identifier for a movie.\n",
    "- `tag`: The tag text applied to the movie.\n",
    "- `timestamp`: Unix timestamp of when the tag was applied."
   ]
  },
  {
   "cell_type": "code",
   "execution_count": null,
   "id": "f08bbc1d",
   "metadata": {},
   "outputs": [],
   "source": [
    "tags_df = pd.read_parquet(\"./data/parquet/tags.parquet\")\n",
    "tags_df.info()\n",
    "tags_df.head()"
   ]
  },
  {
   "cell_type": "markdown",
   "id": "7568354c",
   "metadata": {},
   "source": [
    "## Links\n",
    "The links file provides identifiers that allow you to link MovieLens movies with other movie-related databases.\n",
    "\n",
    "**links.parquet**\n",
    "- Contains identifiers for external movie databases.\n",
    "\n",
    "**Fields:**\n",
    "- `movieId`: Unique identifier for a movie.\n",
    "- `imdbId`: Identifier for the movie in the [IMDb](https://www.imdb.com/) database.\n",
    "- `tmdbId`: Identifier for the movie in the [TMDb](https://www.themoviedb.org/) database."
   ]
  },
  {
   "cell_type": "code",
   "execution_count": null,
   "id": "0095f136",
   "metadata": {},
   "outputs": [],
   "source": [
    "links_df = pd.read_parquet(\"./data/parquet/links.parquet\")\n",
    "links_df.info()\n",
    "links_df.head()"
   ]
  },
  {
   "cell_type": "code",
   "execution_count": null,
   "id": "9b2d4912",
   "metadata": {},
   "outputs": [],
   "source": [
    "links_df = links_df.join(movies_df.set_index(\"movieId\").add_prefix('movie_'), on='movieId', how=\"left\")\n",
    "links_df"
   ]
  },
  {
   "cell_type": "code",
   "execution_count": null,
   "id": "e69fa1dd",
   "metadata": {},
   "outputs": [],
   "source": [
    "links_df.isna().sum()"
   ]
  },
  {
   "cell_type": "markdown",
   "id": "f47b3583",
   "metadata": {},
   "source": [
    "## Genome Tags\n",
    "Genome tags are a set of tags that have been applied to movies in a consistent, controlled way. They are used in the MovieLens tag genome project to describe movies with a rich set of attributes.\n",
    "\n",
    "**genome_tags.parquet**\n",
    "- Contains the set of tags used in the tag genome.\n",
    "\n",
    "**Fields:**\n",
    "- `tagId`: Unique identifier for a tag.\n",
    "- `tag`: The tag text."
   ]
  },
  {
   "cell_type": "code",
   "execution_count": null,
   "id": "e1e90089",
   "metadata": {},
   "outputs": [],
   "source": [
    "genome_tags_df = pd.read_parquet(\"./data/parquet/genome_tags.parquet\")\n",
    "genome_tags_df.info()\n",
    "genome_tags_df.head()\n"
   ]
  },
  {
   "cell_type": "markdown",
   "id": "828d9b69",
   "metadata": {},
   "source": [
    "## Genome Scores\n",
    "Genome scores quantify the relevance of each genome tag to each movie, as determined by user tagging activity.\n",
    "\n",
    "**genome_scores.parquet**\n",
    "- Contains the relevance scores for each tag for each movie.\n",
    "\n",
    "**Fields:**\n",
    "- `movieId`: Unique identifier for a movie.\n",
    "- `tagId`: Unique identifier for a tag.\n",
    "- `relevance`: Relevance score (ranging from 0 to 1) indicating how well the tag describes the movie."
   ]
  },
  {
   "cell_type": "code",
   "execution_count": null,
   "id": "421cd18d",
   "metadata": {},
   "outputs": [],
   "source": [
    "genome_scores_df = pd.read_parquet(\"./data/parquet/genome_scores.parquet\")\n",
    "genome_scores_df.info()\n",
    "genome_scores_df.head()"
   ]
  }
 ],
 "metadata": {
  "kernelspec": {
   "display_name": "uas-soe",
   "language": "python",
   "name": "python3"
  },
  "language_info": {
   "codemirror_mode": {
    "name": "ipython",
    "version": 3
   },
   "file_extension": ".py",
   "mimetype": "text/x-python",
   "name": "python",
   "nbconvert_exporter": "python",
   "pygments_lexer": "ipython3",
   "version": "3.13.2"
  }
 },
 "nbformat": 4,
 "nbformat_minor": 5
}
